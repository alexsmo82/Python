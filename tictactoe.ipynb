{
 "cells": [
  {
   "cell_type": "code",
   "execution_count": 3,
   "id": "08b07129-5088-4ade-b4d1-183a6ff5f55a",
   "metadata": {},
   "outputs": [],
   "source": [
    "from IPython.display import clear_output\n",
    "def display_board(board):\n",
    "    clear_output\n",
    "    print(board[7] + '|' + board[8] + '|' + board[9])\n",
    "    print(board[4] + '|' + board[5] + '|' + board[6])\n",
    "    print(board[1] + '|' + board[2] + '|' + board[3])\n"
   ]
  },
  {
   "cell_type": "code",
   "execution_count": 4,
   "id": "557a1258-02ff-4111-8981-4dec3be67827",
   "metadata": {},
   "outputs": [],
   "source": [
    "def player_input():\n",
    "    marker = ''\n",
    "    while marker !='O' and marker!= 'X':\n",
    "        marker = input('Player1 please choose marker X or O: ').upper()\n",
    "    player1 = marker\n",
    "    if player1 == 'X':\n",
    "        player2 = 'O'\n",
    "    else: player2 = 'X'\n",
    "    return (player1, player2)"
   ]
  },
  {
   "cell_type": "code",
   "execution_count": 6,
   "id": "a41056f3-1507-48e9-94dd-88978506a6bf",
   "metadata": {},
   "outputs": [],
   "source": [
    "def user_choice():\n",
    "    choice = ' '\n",
    "    while choice not in range(1,9):\n",
    "        choice = int(input(\"Please enter a number 0-10: \"))\n",
    "    \n",
    "    return int(choice)\n",
    "    "
   ]
  },
  {
   "cell_type": "code",
   "execution_count": 7,
   "id": "f285719c-e305-41a0-bf3f-b7ba266d41c1",
   "metadata": {},
   "outputs": [],
   "source": [
    "def place_marker(board, marker, position):\n",
    "    board[position] = marker"
   ]
  },
  {
   "cell_type": "code",
   "execution_count": 69,
   "id": "1e3d3d1b-ff07-4cf0-980f-c2ec2ed955d3",
   "metadata": {},
   "outputs": [],
   "source": [
    "test_board = ['#', 'X', 'O', ' ', 'X', 'O', 'O', 'X', 'O', 'X']"
   ]
  },
  {
   "cell_type": "code",
   "execution_count": 9,
   "id": "714db2ed-c049-414a-894d-45c7794f3e3c",
   "metadata": {},
   "outputs": [],
   "source": [
    "def win_check(board, marker):\n",
    "    return ((board[7] == board[8] == board[9] == marker) or\n",
    "            (board[4] == board[5] == board[6] == marker) or\n",
    "            (board[1] == board[2] == board[3] == marker) or\n",
    "            (board[7] == board[4] == board[1] == marker) or\n",
    "            (board[8] == board[5] == board[2] == marker) or\n",
    "            (board[9] == board[6] == board[3] == marker) or\n",
    "            (board[1] == board[5] == board[9] == marker) or\n",
    "            (board[7] == board[5] == board[3] == marker)) "
   ]
  },
  {
   "cell_type": "code",
   "execution_count": 12,
   "id": "3a73b83b-6ffc-4754-950d-ed5b2ac7d2f8",
   "metadata": {},
   "outputs": [],
   "source": [
    "import random\n",
    "def choose_first():\n",
    "    flip = random.randint(0, 1)\n",
    "    if flip == 0:\n",
    "        return 'Player 1'\n",
    "    else: return 'Player 2'"
   ]
  },
  {
   "cell_type": "code",
   "execution_count": 13,
   "id": "3d00321a-2d23-4757-962a-3fbecc4fe0eb",
   "metadata": {},
   "outputs": [],
   "source": [
    "def space_check(board, position):\n",
    "    return board[position] == ' '"
   ]
  },
  {
   "cell_type": "code",
   "execution_count": 14,
   "id": "b9c36ba8-9502-4162-b68e-c18f235eed20",
   "metadata": {},
   "outputs": [],
   "source": [
    "def full_board_check(board):\n",
    "    for i in range(1,10):\n",
    "        if space_check(board, i):\n",
    "            return False\n",
    "    return True"
   ]
  },
  {
   "cell_type": "code",
   "execution_count": 22,
   "id": "bb46f257-9f5e-4106-bb6d-293b155bac1e",
   "metadata": {},
   "outputs": [],
   "source": [
    "def player_choice(board):\n",
    "    position = 0\n",
    "    while position not in range(1,10) or not space_check(board, position):\n",
    "        position = int(input('Choose a position (1-9): '))\n",
    "    return position"
   ]
  },
  {
   "cell_type": "code",
   "execution_count": 16,
   "id": "951deb80-121f-45bf-8cc4-1dbe43d198a2",
   "metadata": {},
   "outputs": [],
   "source": [
    "def replay():\n",
    "    choice = input(\"Do you want to play again? (Yes or No)\")\n",
    "    return choice == \"Yes\""
   ]
  },
  {
   "cell_type": "code",
   "execution_count": 26,
   "id": "84249d9a-8ed8-45e7-9ef1-121855bb6435",
   "metadata": {},
   "outputs": [
    {
     "name": "stdout",
     "output_type": "stream",
     "text": [
      "Welcome to Tictactoe\n"
     ]
    },
    {
     "name": "stdin",
     "output_type": "stream",
     "text": [
      "Player1 please choose marker X or O:  X\n"
     ]
    },
    {
     "name": "stdout",
     "output_type": "stream",
     "text": [
      "Player 2 will go first\n"
     ]
    },
    {
     "name": "stdin",
     "output_type": "stream",
     "text": [
      "Ready to play? y or n:  y\n"
     ]
    },
    {
     "name": "stdout",
     "output_type": "stream",
     "text": [
      " | | \n",
      " | | \n",
      " | | \n",
      "Player 2 turn\n"
     ]
    },
    {
     "name": "stdin",
     "output_type": "stream",
     "text": [
      "Choose a position (1-9):  1\n"
     ]
    },
    {
     "name": "stdout",
     "output_type": "stream",
     "text": [
      " | | \n",
      " | | \n",
      "O| | \n"
     ]
    },
    {
     "name": "stdin",
     "output_type": "stream",
     "text": [
      "Choose a position (1-9):  2\n"
     ]
    },
    {
     "name": "stdout",
     "output_type": "stream",
     "text": [
      " | | \n",
      " | | \n",
      "O|X| \n",
      "Player 2 turn\n"
     ]
    },
    {
     "name": "stdin",
     "output_type": "stream",
     "text": [
      "Choose a position (1-9):  3\n"
     ]
    },
    {
     "name": "stdout",
     "output_type": "stream",
     "text": [
      " | | \n",
      " | | \n",
      "O|X|O\n"
     ]
    },
    {
     "name": "stdin",
     "output_type": "stream",
     "text": [
      "Choose a position (1-9):  4\n"
     ]
    },
    {
     "name": "stdout",
     "output_type": "stream",
     "text": [
      " | | \n",
      "X| | \n",
      "O|X|O\n",
      "Player 2 turn\n"
     ]
    },
    {
     "name": "stdin",
     "output_type": "stream",
     "text": [
      "Choose a position (1-9):  5\n"
     ]
    },
    {
     "name": "stdout",
     "output_type": "stream",
     "text": [
      " | | \n",
      "X|O| \n",
      "O|X|O\n"
     ]
    },
    {
     "name": "stdin",
     "output_type": "stream",
     "text": [
      "Choose a position (1-9):  6\n"
     ]
    },
    {
     "name": "stdout",
     "output_type": "stream",
     "text": [
      " | | \n",
      "X|O|X\n",
      "O|X|O\n",
      "Player 2 turn\n"
     ]
    },
    {
     "name": "stdin",
     "output_type": "stream",
     "text": [
      "Choose a position (1-9):  7\n"
     ]
    },
    {
     "name": "stdout",
     "output_type": "stream",
     "text": [
      "O| | \n",
      "X|O|X\n",
      "O|X|O\n",
      "Player2 has won!\n"
     ]
    },
    {
     "name": "stdin",
     "output_type": "stream",
     "text": [
      "Do you want to play again? (Yes or No) Yes\n",
      "Player1 please choose marker X or O:  X\n"
     ]
    },
    {
     "name": "stdout",
     "output_type": "stream",
     "text": [
      "Player 2 will go first\n"
     ]
    },
    {
     "name": "stdin",
     "output_type": "stream",
     "text": [
      "Ready to play? y or n:  y\n"
     ]
    },
    {
     "name": "stdout",
     "output_type": "stream",
     "text": [
      " | | \n",
      " | | \n",
      " | | \n",
      "Player 2 turn\n"
     ]
    },
    {
     "name": "stdin",
     "output_type": "stream",
     "text": [
      "Choose a position (1-9):  8\n"
     ]
    },
    {
     "name": "stdout",
     "output_type": "stream",
     "text": [
      " |O| \n",
      " | | \n",
      " | | \n"
     ]
    },
    {
     "name": "stdin",
     "output_type": "stream",
     "text": [
      "Choose a position (1-9):  3\n"
     ]
    },
    {
     "name": "stdout",
     "output_type": "stream",
     "text": [
      " |O| \n",
      " | | \n",
      " | |X\n",
      "Player 2 turn\n"
     ]
    },
    {
     "name": "stdin",
     "output_type": "stream",
     "text": [
      "Choose a position (1-9):  9\n"
     ]
    },
    {
     "name": "stdout",
     "output_type": "stream",
     "text": [
      " |O|O\n",
      " | | \n",
      " | |X\n"
     ]
    },
    {
     "name": "stdin",
     "output_type": "stream",
     "text": [
      "Choose a position (1-9):  7\n"
     ]
    },
    {
     "name": "stdout",
     "output_type": "stream",
     "text": [
      "X|O|O\n",
      " | | \n",
      " | |X\n",
      "Player 2 turn\n"
     ]
    },
    {
     "name": "stdin",
     "output_type": "stream",
     "text": [
      "Choose a position (1-9):  5\n"
     ]
    },
    {
     "name": "stdout",
     "output_type": "stream",
     "text": [
      "X|O|O\n",
      " |O| \n",
      " | |X\n"
     ]
    },
    {
     "name": "stdin",
     "output_type": "stream",
     "text": [
      "Choose a position (1-9):  2\n"
     ]
    },
    {
     "name": "stdout",
     "output_type": "stream",
     "text": [
      "X|O|O\n",
      " |O| \n",
      " |X|X\n",
      "Player 2 turn\n"
     ]
    },
    {
     "name": "stdin",
     "output_type": "stream",
     "text": [
      "Choose a position (1-9):  1\n"
     ]
    },
    {
     "name": "stdout",
     "output_type": "stream",
     "text": [
      "X|O|O\n",
      " |O| \n",
      "O|X|X\n",
      "Player2 has won!\n"
     ]
    },
    {
     "name": "stdin",
     "output_type": "stream",
     "text": [
      "Do you want to play again? (Yes or No) No\n"
     ]
    }
   ],
   "source": [
    "print ('Welcome to Tictactoe')\n",
    "while True:\n",
    "    the_board = [' '] * 10\n",
    "    player1_marker, player2_marker = player_input()\n",
    "    turn = choose_first()\n",
    "    print(turn + ' will go first')\n",
    "    play_game = input('Ready to play? y or n: ')\n",
    "    if play_game == 'y':\n",
    "        game_on = True\n",
    "    else:\n",
    "        game_on = False\n",
    "\n",
    "    while game_on:\n",
    "        if turn == \"Player1\":\n",
    "            display_board(the_board)\n",
    "           \n",
    "            position = player_choice(the_board)\n",
    "            place_marker(the_board, player1_marker, position)\n",
    "            if win_check(the_board, player1_marker):\n",
    "                display_board(the_board)\n",
    "                print('Player1 has won!')\n",
    "                game_on = False\n",
    "            else:\n",
    "                if full_board_check(the_board):\n",
    "                    display_board(the_board)\n",
    "                    print(\"The game is Tie\")\n",
    "                    game_on = False\n",
    "                    break\n",
    "                else: \n",
    "                    turn = \"Player2\"\n",
    "                    \n",
    "                    \n",
    "        else:\n",
    "            display_board(the_board)\n",
    "            print (\"Player 2 turn\")\n",
    "            position = player_choice(the_board)\n",
    "            place_marker(the_board, player2_marker, position)\n",
    "            if win_check(the_board, player2_marker):\n",
    "                display_board(the_board)\n",
    "                \n",
    "                print('Player2 has won!')\n",
    "                game_on = False\n",
    "            else:\n",
    "                if full_board_check(the_board):\n",
    "                    display_board(the_board)\n",
    "                    print(\"The game is Tie\")\n",
    "                    game_on = False\n",
    "                    break\n",
    "                else: \n",
    "                    turn = \"Player1\"\n",
    "                    \n",
    "        \n",
    "    if not replay():\n",
    "        break"
   ]
  }
 ],
 "metadata": {
  "kernelspec": {
   "display_name": "Python 3 (ipykernel)",
   "language": "python",
   "name": "python3"
  },
  "language_info": {
   "codemirror_mode": {
    "name": "ipython",
    "version": 3
   },
   "file_extension": ".py",
   "mimetype": "text/x-python",
   "name": "python",
   "nbconvert_exporter": "python",
   "pygments_lexer": "ipython3",
   "version": "3.11.7"
  }
 },
 "nbformat": 4,
 "nbformat_minor": 5
}
